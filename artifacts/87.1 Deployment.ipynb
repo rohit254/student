{
 "cells": [
  {
   "cell_type": "code",
   "execution_count": null,
   "id": "1be695f8",
   "metadata": {},
   "outputs": [],
   "source": []
  },
  {
   "cell_type": "code",
   "execution_count": null,
   "id": "d232c1bc",
   "metadata": {},
   "outputs": [],
   "source": [
    "Data science project stages:\n",
    "\n",
    "Step 1: Problem Statement\n",
    "Step 2: Data Gathering\n",
    "Step 3: EDA\n",
    "Step 4: Feature Engineering\n",
    "Step 5: Feature Selection\n",
    "Step 6: Model Training\n",
    "Step 7: Model Evaluation\n",
    "Step 8: Deployment(AWS)\n",
    "    "
   ]
  },
  {
   "cell_type": "code",
   "execution_count": null,
   "id": "4675da6a",
   "metadata": {},
   "outputs": [],
   "source": []
  },
  {
   "cell_type": "code",
   "execution_count": null,
   "id": "d6c7d209",
   "metadata": {},
   "outputs": [],
   "source": [
    "Deployment >> Moving your project from local system to cloud system\n",
    "\n",
    "\n",
    "Local System :\n",
    "    OS, Ram, Processor, HDD\n",
    "    OS - Windows,Linux, Mac os\n",
    "\n",
    "Cloud System :\n",
    "     OS, Ram, Processor, HDD/SSD, Graphics Card\n",
    "        "
   ]
  },
  {
   "cell_type": "code",
   "execution_count": null,
   "id": "1923dd8b",
   "metadata": {},
   "outputs": [],
   "source": [
    "Why AWS?\n",
    "\n",
    "In market [GCP, Azure], AWS has largest market share. 25%\n",
    "Process is similar like other cloud provider.\n"
   ]
  },
  {
   "cell_type": "code",
   "execution_count": null,
   "id": "99b0c359",
   "metadata": {},
   "outputs": [],
   "source": [
    "Dependent : Company you are working with >> AWS or GCP\n",
    "                                         >> AZURE "
   ]
  },
  {
   "cell_type": "code",
   "execution_count": null,
   "id": "ceda82b1",
   "metadata": {},
   "outputs": [],
   "source": [
    "Dependency or dependent means relying on something for support.\n",
    "\n",
    "Dependencies\n",
    "1. Software Dependencies\n",
    "2. Hardware Dependencies\n",
    "\n",
    "\n",
    "Project > Python 2.5\n",
    "\n",
    "Is it going to work python 3.5>> No\n",
    "\n",
    "Version Conflict\n",
    "\n",
    "Version Management Tool >> conda Environment"
   ]
  },
  {
   "cell_type": "code",
   "execution_count": null,
   "id": "d55deb3a",
   "metadata": {},
   "outputs": [],
   "source": []
  },
  {
   "cell_type": "code",
   "execution_count": null,
   "id": "73e60ee4",
   "metadata": {},
   "outputs": [],
   "source": [
    " Rohit You have 3 year experiance. You have to build End to End Project.\n",
    "    \n",
    "End to End Project[5-10]\n",
    "\n",
    "step 1: Problem Statement\n",
    "    \n",
    "Step 2: Data collection\n",
    "\n",
    "    Before Starting of Coding and Model Building\n",
    "    \n",
    "    step 2.1 : Create Conda Env\n",
    "        \n",
    "  * step 2.2: Create Git Repository \n",
    "\n",
    "Step 3 to step 7:-\n",
    "    Model >> create Generalised Model \n",
    "\n",
    "Step 7.1: Push the changes in Main Branch of git \n",
    "        [Our Final Project ready for Deployment] >> Done\n",
    "    \n",
    "Step 8: Deployment\n",
    "    8.1 : Create  Cloud Instance [Cloud System/ New Laptop] Cloud- ubuntu > python               >> Done\n",
    "    8.2 : Install Python and Other Dependencies on Cloud instance.[flask,numpy,pandas,sklearn] >> Done\n",
    "    8.3 : Run App\n",
    "    "
   ]
  },
  {
   "cell_type": "code",
   "execution_count": null,
   "id": "869243b2",
   "metadata": {},
   "outputs": [],
   "source": []
  },
  {
   "cell_type": "code",
   "execution_count": null,
   "id": "3b74a9be",
   "metadata": {},
   "outputs": [],
   "source": [
    "Artificial Intelligence App - It works without human intervention.\n",
    " Ex. Our ML project is AI application. Use Cases - Cost price prediction, classification.\n",
    "    \n",
    "After deploying application on Serever anybody can check the predictions."
   ]
  },
  {
   "cell_type": "code",
   "execution_count": null,
   "id": "95b284b4",
   "metadata": {},
   "outputs": [],
   "source": [
    "IQ :\n",
    "    1. How quikly you can understand and judge the problem.\n",
    "    2. All Hard skill and Soft Skill is determined by IQ score.\n",
    "    3. Average IQ -(100 to 120)\n",
    "       Above 120 - Scientist, Good Analyatics skills\n",
    "        \n",
    "        \n",
    "Profile score :\n",
    "    1. Extra-curricuar Activity\n",
    "    2. Sports, Paper Pubclication\n",
    "    \n",
    "CGPA: \n",
    "    \n",
    "Based on These 3 important feature University want to predict student will placed or not in placement drive.\n",
    "0 - No\n",
    "1 - Yes\n",
    "\n",
    "dataset 300- students columns-3"
   ]
  },
  {
   "cell_type": "code",
   "execution_count": null,
   "id": "b45ce047",
   "metadata": {},
   "outputs": [],
   "source": []
  },
  {
   "cell_type": "markdown",
   "id": "3a81f4f8",
   "metadata": {},
   "source": [
    "## Creating Conda Environment"
   ]
  },
  {
   "cell_type": "code",
   "execution_count": null,
   "id": "6816ff4b",
   "metadata": {},
   "outputs": [],
   "source": [
    "Step 1:\n",
    "    \n",
    "1. For Creating Environment we dont need to set file path we can create env at (base c) location also.\n",
    "2. We use 1 lower version which is more stable as compare to recent updated version\n",
    "    1. Ubuntu Server 22.04 LTS - python \n",
    "    2. Ubuntu Server 20.04 LTS  - python 3.9\n",
    "    3. Ubuntu Server 18.04 LTS  - python 3.7\n",
    "    \n",
    "3. It is always good practice to mention python version while creating Conda Environment.\n",
    "4. Remember currently Jupyter Notebook is running on Base environment means it is using python 3.10 latest version.\n",
    "   We have to run on python-3.7 version which is AWS cloud Ubuntu version.\n",
    "5. Open Jupyter Nitebook from new creatad Conda environment(Which is python=3.7)\n",
    "6. Now we are (entered into Conda student Env) and we have to Update kernel also\n",
    "   \n",
    "\n",
    "step 2: Update Kernels - conda install nb_conda_kernels\n",
    "      \n",
    "    \n",
    "step 3: Install all libraries in student environmet\n",
    "    \n",
    "    "
   ]
  },
  {
   "cell_type": "code",
   "execution_count": null,
   "id": "abd17cfb",
   "metadata": {},
   "outputs": [],
   "source": [
    "In Company\n",
    "\n",
    "1. Jupyter - for model building\n",
    "2. VS-Code - for API, functions and Logic Building"
   ]
  },
  {
   "cell_type": "code",
   "execution_count": null,
   "id": "fe58f708",
   "metadata": {},
   "outputs": [],
   "source": []
  },
  {
   "cell_type": "code",
   "execution_count": null,
   "id": "70246bdf",
   "metadata": {},
   "outputs": [],
   "source": [
    "Why you Need Multiple Conda/Python Environments.\n",
    "\n",
    "1. Say you have multiple projects and they all rely on a library (Pandas, Numpy etc).\n",
    "   If you upgrade one package it could break your other projects relying on old versions of the package as the \n",
    "    old project’s syntax could become deprecated or obsolete. \n",
    "\n",
    "2. What should you do? Set up a virtual environment. It allows you to separate out packages, dependencies and \n",
    "   versions you are going to use from project to project.\n",
    "\n",
    "3. The package nb_conda_kernels will automatically detect different conda environments with notebook kernels and\n",
    "   automatically register them."
   ]
  },
  {
   "cell_type": "code",
   "execution_count": null,
   "id": "c660511c",
   "metadata": {},
   "outputs": [],
   "source": []
  },
  {
   "cell_type": "markdown",
   "id": "b00fa104",
   "metadata": {},
   "source": [
    "## Project folder Structure"
   ]
  },
  {
   "cell_type": "code",
   "execution_count": null,
   "id": "eaee8214",
   "metadata": {},
   "outputs": [],
   "source": [
    "1. Artifacts folder- dataset(csv file), pkl file, jupyter file\n",
    "\n",
    "2. App folder - logics, main.py, function.py (login details)\n",
    "\n",
    "3. templates folder - front-end folder, flask, (index.html) (template not found error) ***\n",
    "\n",
    "4. static folder - css file, style.css, imgaes\n",
    "\n",
    "5. open space file - app.py(backend), config.py, requirement.txt  \n",
    "\n",
    "\n",
    "Project is very helpful"
   ]
  },
  {
   "cell_type": "code",
   "execution_count": null,
   "id": "199b14d1",
   "metadata": {},
   "outputs": [],
   "source": [
    "! - Emmet Abbreviation - Use to get Auto HTML structure\n",
    "    Front end is important to take input from user\n",
    "    \n",
    "1. User input data\n",
    "   To access the incoming data in Flask, you have to use the request object.\n",
    "    The request object holds all incoming data from the request.\n",
    "    \n",
    "    he request object contains all the data that is sent from the client-side to the server using HTTP methods like get,\n",
    "    post. And all that data is temporarily stored in the request object till the server receives it."
   ]
  },
  {
   "cell_type": "code",
   "execution_count": null,
   "id": "1c1cdb71",
   "metadata": {},
   "outputs": [],
   "source": []
  },
  {
   "cell_type": "markdown",
   "id": "55b087b6",
   "metadata": {},
   "source": [
    "# Flask"
   ]
  },
  {
   "cell_type": "code",
   "execution_count": null,
   "id": "26b86090",
   "metadata": {},
   "outputs": [],
   "source": [
    "Always run flask on VS-code.\n",
    "\n",
    "1. Default(Local Host) = app.run(debug=True, host='127.0.0.01',port=5000) (if we use 0.0.0.= it take local IP adress-- http://192.168.43.14:8080/ )\n",
    "2. AWS  (Cloud Server) = app.run(debug=True, host='0.0.0.0',port=8080)\n",
    "\n",
    "for host='127.0.0.01' = http://127.0.0.1:8080/\n",
    "for host ='0.0.0.0'   = http://192.168.43.14:8080/\n",
    "\n",
    "    "
   ]
  },
  {
   "cell_type": "code",
   "execution_count": null,
   "id": "82c36aeb",
   "metadata": {},
   "outputs": [],
   "source": [
    "Always Remember Security is measure concern in any project. so prefer post method\n",
    "\n",
    "1. Get Method - unsecure (No Security)\n",
    "2. Post Method - Secure (High Security)\n",
    "\n",
    "3. User input can be seen on vs code console"
   ]
  },
  {
   "cell_type": "code",
   "execution_count": null,
   "id": "6a391a79",
   "metadata": {},
   "outputs": [],
   "source": []
  },
  {
   "cell_type": "code",
   "execution_count": null,
   "id": "48502313",
   "metadata": {},
   "outputs": [],
   "source": []
  },
  {
   "cell_type": "code",
   "execution_count": null,
   "id": "1a4b60de",
   "metadata": {},
   "outputs": [],
   "source": [
    "Lecture 1 - 1. Create Conda Env\n",
    "\n",
    "            2.  Step 3 to step 7:\n",
    "        \n",
    "                    Step 3: EDA\n",
    "                    Step 4: Feature Engineering\n",
    "                    Step 5: Feature Selection\n",
    "                    Step 6: Model Training\n",
    "                    Step 7: Model Evaluation\n",
    "                    step 8 : Create Flask API and Front End\n",
    "                        \n",
    "                        \n",
    "                        \n",
    "Lecture 2 Steps - Remaining :- step 2.2: Create Git Repository \n",
    "                             Step 7.1: Push the changes in Main Branch of git \n",
    "                             Step 8: Deployment\n",
    "                             8.1 : Create  Cloud Instance [Cloud System/ New Laptop] Cloud- ubuntu > python"
   ]
  },
  {
   "cell_type": "code",
   "execution_count": null,
   "id": "18a69346",
   "metadata": {},
   "outputs": [],
   "source": []
  },
  {
   "cell_type": "code",
   "execution_count": null,
   "id": "b570dc32",
   "metadata": {},
   "outputs": [],
   "source": []
  },
  {
   "cell_type": "code",
   "execution_count": null,
   "id": "27472d02",
   "metadata": {},
   "outputs": [],
   "source": []
  }
 ],
 "metadata": {
  "kernelspec": {
   "display_name": "Python [conda env:student] *",
   "language": "python",
   "name": "conda-env-student-py"
  },
  "language_info": {
   "codemirror_mode": {
    "name": "ipython",
    "version": 3
   },
   "file_extension": ".py",
   "mimetype": "text/x-python",
   "name": "python",
   "nbconvert_exporter": "python",
   "pygments_lexer": "ipython3",
   "version": "3.7.13"
  }
 },
 "nbformat": 4,
 "nbformat_minor": 5
}
