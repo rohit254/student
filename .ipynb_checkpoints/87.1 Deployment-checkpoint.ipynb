{
 "cells": [
  {
   "cell_type": "code",
   "execution_count": null,
   "id": "1be695f8",
   "metadata": {},
   "outputs": [],
   "source": []
  },
  {
   "cell_type": "code",
   "execution_count": null,
   "id": "d232c1bc",
   "metadata": {},
   "outputs": [],
   "source": [
    "Data science project stages:\n",
    "\n",
    "Step 1: Problem Statement\n",
    "Step 2: Data Gathering\n",
    "Step 3: EDA\n",
    "Step 4: Feature Engineering\n",
    "Step 5: Feature Selection\n",
    "Step 6: Model Training\n",
    "Step 7: Model Evaluation\n",
    "Step 8: Deployment(AWS)\n",
    "    "
   ]
  },
  {
   "cell_type": "code",
   "execution_count": null,
   "id": "4675da6a",
   "metadata": {},
   "outputs": [],
   "source": []
  },
  {
   "cell_type": "code",
   "execution_count": null,
   "id": "d6c7d209",
   "metadata": {},
   "outputs": [],
   "source": [
    "Deployment >> Moving your project from local system to cloud system\n",
    "\n",
    "\n",
    "Local System :\n",
    "    OS, Ram, Processor, HDD\n",
    "    OS - Windows,Linux, Mac os\n",
    "\n",
    "Cloud System :\n",
    "     OS, Ram, Processor, HDD/SSD, Graphics Card\n",
    "        "
   ]
  },
  {
   "cell_type": "code",
   "execution_count": null,
   "id": "1923dd8b",
   "metadata": {},
   "outputs": [],
   "source": [
    "Why AWS?\n",
    "\n",
    "In market [GCP, Azure], AWS has largest market share. 25%\n",
    "Process is similar like other cloud provider.\n"
   ]
  },
  {
   "cell_type": "code",
   "execution_count": null,
   "id": "bfa1dcdb",
   "metadata": {},
   "outputs": [],
   "source": [
    "Dependent : Company you are working with >> AWS or GCP\n",
    "                                         >> AZURE "
   ]
  },
  {
   "cell_type": "code",
   "execution_count": null,
   "id": "ceda82b1",
   "metadata": {},
   "outputs": [],
   "source": [
    "Dependency or dependent means relying on something for support.\n",
    "\n",
    "Dependencies\n",
    "1. Software Dependencies\n",
    "2. Hardware Dependencies\n",
    "\n",
    "\n",
    "Project > Python 2.5\n",
    "\n",
    "Is it going to work python 3.5>> No\n",
    "\n",
    "Version Conflict\n",
    "\n",
    "Version Management Tool >> conda Environment"
   ]
  },
  {
   "cell_type": "code",
   "execution_count": null,
   "id": "d55deb3a",
   "metadata": {},
   "outputs": [],
   "source": []
  },
  {
   "cell_type": "code",
   "execution_count": null,
   "id": "73e60ee4",
   "metadata": {},
   "outputs": [],
   "source": [
    " Rohit You have 3 year experiance. You have to build End to End Project.\n",
    "    \n",
    "End to End Project[5-10]\n",
    "\n",
    "step 1: Problem Statement\n",
    "    \n",
    "Step 2: Data collection\n",
    "\n",
    "    Before Starting of Coding and Model Building\n",
    "    \n",
    "    step 2.1 : Create Conda Env\n",
    "        \n",
    "    step 2.2: Create Git Repository\n",
    "\n",
    "Step 3 to step 7:-\n",
    "    Model >> create Generalised Model \n",
    "\n",
    "Step 7.1: Push the changes in Main Branch of git \n",
    "        [Our Final Project ready for Deployment] >> Done\n",
    "    \n",
    "Step 8: Deployment\n",
    "    8.1 : Create  Cloud Instance [Cloud System/ New Laptop]              >> Done\n",
    "    8.2 : Install Python and Other Dependencies on Cloud instance.[flask,numpy,pandas,sklearn] >> Done\n",
    "    8.3 : Run App\n",
    "    "
   ]
  },
  {
   "cell_type": "code",
   "execution_count": null,
   "id": "cc4f77a8",
   "metadata": {},
   "outputs": [],
   "source": []
  },
  {
   "cell_type": "code",
   "execution_count": null,
   "id": "3b74a9be",
   "metadata": {},
   "outputs": [],
   "source": [
    "Artificial Intelligence App - It works without human intervention.\n",
    " Ex. Our ML project is AI application. Use Cases - Cost price prediction, classification.\n",
    "    \n",
    "After deploying application on Serever anybody can check the predictions.\n",
    "\n",
    "\n"
   ]
  },
  {
   "cell_type": "code",
   "execution_count": null,
   "id": "95b284b4",
   "metadata": {},
   "outputs": [],
   "source": []
  },
  {
   "cell_type": "code",
   "execution_count": null,
   "id": "b45ce047",
   "metadata": {},
   "outputs": [],
   "source": []
  },
  {
   "cell_type": "code",
   "execution_count": null,
   "id": "5f1ccf25",
   "metadata": {},
   "outputs": [],
   "source": []
  },
  {
   "cell_type": "code",
   "execution_count": null,
   "id": "6816ff4b",
   "metadata": {},
   "outputs": [],
   "source": []
  },
  {
   "cell_type": "code",
   "execution_count": null,
   "id": "abd17cfb",
   "metadata": {},
   "outputs": [],
   "source": []
  },
  {
   "cell_type": "code",
   "execution_count": null,
   "id": "fe58f708",
   "metadata": {},
   "outputs": [],
   "source": []
  },
  {
   "cell_type": "code",
   "execution_count": null,
   "id": "70246bdf",
   "metadata": {},
   "outputs": [],
   "source": []
  },
  {
   "cell_type": "code",
   "execution_count": null,
   "id": "c660511c",
   "metadata": {},
   "outputs": [],
   "source": []
  },
  {
   "cell_type": "code",
   "execution_count": null,
   "id": "cbf64dd2",
   "metadata": {},
   "outputs": [],
   "source": []
  },
  {
   "cell_type": "code",
   "execution_count": null,
   "id": "eaee8214",
   "metadata": {},
   "outputs": [],
   "source": []
  },
  {
   "cell_type": "code",
   "execution_count": null,
   "id": "199b14d1",
   "metadata": {},
   "outputs": [],
   "source": []
  },
  {
   "cell_type": "code",
   "execution_count": null,
   "id": "3402296b",
   "metadata": {},
   "outputs": [],
   "source": []
  },
  {
   "cell_type": "code",
   "execution_count": null,
   "id": "26b86090",
   "metadata": {},
   "outputs": [],
   "source": []
  },
  {
   "cell_type": "code",
   "execution_count": null,
   "id": "b680e122",
   "metadata": {},
   "outputs": [],
   "source": []
  },
  {
   "cell_type": "code",
   "execution_count": null,
   "id": "2979d1de",
   "metadata": {},
   "outputs": [],
   "source": []
  },
  {
   "cell_type": "code",
   "execution_count": null,
   "id": "04db6cdb",
   "metadata": {},
   "outputs": [],
   "source": []
  }
 ],
 "metadata": {
  "kernelspec": {
   "display_name": "Python 3 (ipykernel)",
   "language": "python",
   "name": "python3"
  },
  "language_info": {
   "codemirror_mode": {
    "name": "ipython",
    "version": 3
   },
   "file_extension": ".py",
   "mimetype": "text/x-python",
   "name": "python",
   "nbconvert_exporter": "python",
   "pygments_lexer": "ipython3",
   "version": "3.10.0"
  }
 },
 "nbformat": 4,
 "nbformat_minor": 5
}
